{
 "cells": [
  {
   "cell_type": "markdown",
   "id": "76c87520",
   "metadata": {},
   "source": [
    "# Climate Change Modeling Project"
   ]
  },
  {
   "cell_type": "code",
   "execution_count": 5,
   "id": "d949776a",
   "metadata": {},
   "outputs": [],
   "source": [
    "# Step 1: Import Libraries\n",
    "import pandas as pd\n",
    "import numpy as np\n",
    "import matplotlib.pyplot as plt\n",
    "import seaborn as sns\n",
    "import geopandas as gpd\n",
    "from shapely.geometry import Point\n",
    "from sklearn.model_selection import train_test_split\n",
    "from sklearn.preprocessing import StandardScaler\n",
    "from sklearn.ensemble import RandomForestRegressor\n",
    "from sklearn.metrics import mean_absolute_error, mean_squared_error, r2_score\n",
    "import folium\n",
    "import warnings\n",
    "warnings.filterwarnings('ignore')"
   ]
  },
  {
   "cell_type": "code",
   "execution_count": null,
   "id": "ec1db732",
   "metadata": {},
   "outputs": [
    {
     "ename": "SyntaxError",
     "evalue": "(unicode error) 'unicodeescape' codec can't decode bytes in position 2-3: truncated \\UXXXXXXXX escape (2119220294.py, line 3)",
     "output_type": "error",
     "traceback": [
      "  \u001b[36mCell\u001b[39m\u001b[36m \u001b[39m\u001b[32mIn[8]\u001b[39m\u001b[32m, line 3\u001b[39m\n\u001b[31m    \u001b[39m\u001b[31mdata = pd.read_csv('C:\\Users\\USER\\Downloads\\climate_nasa.csv')\u001b[39m\n                       ^\n\u001b[31mSyntaxError\u001b[39m\u001b[31m:\u001b[39m (unicode error) 'unicodeescape' codec can't decode bytes in position 2-3: truncated \\UXXXXXXXX escape\n"
     ]
    }
   ],
   "source": [
    "# Step 2: Load Dataset\n",
    "# Replace 'climate_data.csv' with your actual dataset path\n",
    "data = pd.read_csv(r\"C:\\Users\\USER\\Downloads\\climate_nasa.csv\")\n",
    "\n",
    "# Preview dataset\n",
    "print(data.head())\n",
    "print(data.info())\n",
    "print(data.describe())"
   ]
  },
  {
   "cell_type": "code",
   "execution_count": null,
   "id": "a0e4e44d",
   "metadata": {},
   "outputs": [],
   "source": [
    "#  Step 3: Exploratory Data Analysis (EDA)\n",
    "# Plot target variable distribution\n",
    "sns.histplot(data['emission'], bins=30, kde=True)\n",
    "plt.title('Distribution of CO2 Emissions')\n",
    "plt.xlabel('Emission')\n",
    "plt.ylabel('Frequency')\n",
    "plt.show()\n",
    "\n",
    "# Plot correlation heatmap\n",
    "plt.figure(figsize=(12, 8))\n",
    "sns.heatmap(data.corr(), annot=True, cmap='coolwarm')\n",
    "plt.title('Feature Correlation Heatmap')\n",
    "plt.show()\n",
    "\n",
    "# Geospatial visualization (example)\n",
    "geometry = gpd.points_from_xy(data.longitude, data.latitude)\n",
    "geo_df = gpd.GeoDataFrame(data[['latitude', 'longitude']], geometry=geometry)\n",
    "map_visual = folium.Map(location=[-0.51, 29.29], zoom_start=8)\n",
    "for idx, row in geo_df.iterrows():\n",
    "    folium.CircleMarker(location=[row.latitude, row.longitude],\n",
    "                        radius=2, color='blue').add_to(map_visual)\n",
    "map_visual.save('geospatial_map.html')"
   ]
  },
  {
   "cell_type": "code",
   "execution_count": null,
   "id": "bb5a973f",
   "metadata": {},
   "outputs": [],
   "source": [
    "#  Step 4: Data Preprocessing\n",
    "# Handle missing values (example: fill with median)\n",
    "data.fillna(data.median(), inplace=True)\n",
    "\n",
    "# Feature selection (drop unnecessary columns)\n",
    "X = data.drop(['emission', 'ID'], axis=1)  # Customize according to dataset\n",
    "y = data['emission']\n",
    "\n",
    "# Train-test split\n",
    "X_train, X_test, y_train, y_test = train_test_split(\n",
    "    X, y, test_size=0.2, random_state=42\n",
    ")\n",
    "\n",
    "# Feature scaling\n",
    "scaler = StandardScaler()\n",
    "X_train = scaler.fit_transform(X_train)\n",
    "X_test = scaler.transform(X_test)"
   ]
  },
  {
   "cell_type": "code",
   "execution_count": null,
   "id": "b76e5e17",
   "metadata": {},
   "outputs": [],
   "source": [
    "#  Step 5: Model Training\n",
    "model = RandomForestRegressor(random_state=42)\n",
    "model.fit(X_train, y_train)"
   ]
  },
  {
   "cell_type": "code",
   "execution_count": null,
   "id": "1e3dcb69",
   "metadata": {},
   "outputs": [],
   "source": [
    "# Step 6: Model Evaluation\n",
    "y_pred = model.predict(X_test)\n",
    "\n",
    "mae = mean_absolute_error(y_test, y_pred)\n",
    "mse = mean_squared_error(y_test, y_pred)\n",
    "r2 = r2_score(y_test, y_pred)\n",
    "\n",
    "print(f'MAE: {mae:.3f}')\n",
    "print(f'MSE: {mse:.3f}')\n",
    "print(f'R² Score: {r2:.3f}')\n",
    "\n",
    "# Plot Actual vs Predicted\n",
    "plt.figure(figsize=(10, 6))\n",
    "plt.scatter(y_test, y_pred, alpha=0.5)\n",
    "plt.xlabel('Actual Emission')\n",
    "plt.ylabel('Predicted Emission')\n",
    "plt.title('Actual vs Predicted CO2 Emission')\n",
    "plt.plot([y.min(), y.max()], [y.min(), y.max()], 'r--')\n",
    "plt.show()"
   ]
  },
  {
   "cell_type": "code",
   "execution_count": null,
   "id": "ed49a519",
   "metadata": {},
   "outputs": [],
   "source": [
    "#  Step 7: Future Projections Example\n",
    "# Assuming future_data.csv is available\n",
    "try:\n",
    "    future_data = pd.read_csv('future_climate_data.csv')\n",
    "    future_data_scaled = scaler.transform(future_data)\n",
    "    future_predictions = model.predict(future_data_scaled)\n",
    "    print('Future CO2 Emission Projections:', future_predictions)\n",
    "except Exception as e:\n",
    "    print('Future projection data not available:', e)"
   ]
  },
  {
   "cell_type": "code",
   "execution_count": null,
   "id": "86e90074",
   "metadata": {},
   "outputs": [],
   "source": [
    "#  Step 8: Save Model (Optional)\n",
    "import joblib\n",
    "joblib.dump(model, 'climate_model.pkl')"
   ]
  }
 ],
 "metadata": {
  "kernelspec": {
   "display_name": ".venv",
   "language": "python",
   "name": "python3"
  },
  "language_info": {
   "codemirror_mode": {
    "name": "ipython",
    "version": 3
   },
   "file_extension": ".py",
   "mimetype": "text/x-python",
   "name": "python",
   "nbconvert_exporter": "python",
   "pygments_lexer": "ipython3",
   "version": "3.13.2"
  }
 },
 "nbformat": 4,
 "nbformat_minor": 5
}
